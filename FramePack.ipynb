{
 "cells": [
  {
   "cell_type": "code",
   "execution_count": 1,
   "id": "4c749e37-e6e1-4f0a-a6f1-8c204d2a350a",
   "metadata": {},
   "outputs": [
    {
     "name": "stdout",
     "output_type": "stream",
     "text": [
      "/teamspace/studios/this_studio\n"
     ]
    }
   ],
   "source": [
    "!pwd"
   ]
  },
  {
   "cell_type": "code",
   "execution_count": null,
   "id": "4f14b6e1-a71d-48dc-b3a2-3d20686d9eb3",
   "metadata": {},
   "outputs": [],
   "source": [
    "# root_path=\"/content\"\n",
    "root_path=\"/teamspace/studios/this_studio\"\n",
    "%cd $root_path\n",
    "\n",
    "!git clone https://github.com/lllyasviel/FramePack.git\n",
    "%cd $root_path/FramePack\n",
    "\n",
    "# skip for google colab\n",
    "!pip install torch torchvision torchaudio --index-url https://download.pytorch.org/whl/cu126\n",
    "\n",
    "!pip install sageattention==1.0.6\n",
    "!pip install -r requirements.txt\n",
    "from IPython.display import clear_output\n",
    "clear_output()\n"
   ]
  },
  {
   "cell_type": "code",
   "execution_count": null,
   "id": "16142917-c65c-4427-a472-2e774ba591cc",
   "metadata": {},
   "outputs": [],
   "source": [
    "#@title Run FramePack\n",
    "# root_path=\"/content\"\n",
    "root_path=\"/teamspace/studios/this_studio\"\n",
    "%cd $root_path/FramePack\n",
    "\n",
    "!python demo_gradio.py --share"
   ]
  },
  {
   "cell_type": "code",
   "execution_count": null,
   "id": "023a021d-fb80-408e-a88c-5b6026089b2e",
   "metadata": {},
   "outputs": [],
   "source": [
    "#@title Run FramePack-F1\n",
    "# root_path=\"/content\"\n",
    "root_path=\"/teamspace/studios/this_studio\"\n",
    "%cd $root_path/FramePack\n",
    "!python demo_gradio_f1.py --share"
   ]
  }
 ],
 "metadata": {
  "kernelspec": {
   "display_name": "Python 3",
   "language": "python",
   "name": "python3"
  },
  "language_info": {
   "codemirror_mode": {
    "name": "ipython",
    "version": 3
   },
   "file_extension": ".py",
   "mimetype": "text/x-python",
   "name": "python",
   "nbconvert_exporter": "python",
   "pygments_lexer": "ipython3",
   "version": "3.10.10"
  }
 },
 "nbformat": 4,
 "nbformat_minor": 5
}
