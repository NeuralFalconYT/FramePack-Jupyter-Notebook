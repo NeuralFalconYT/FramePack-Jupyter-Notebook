{
  "nbformat": 4,
  "nbformat_minor": 0,
  "metadata": {
    "colab": {
      "provenance": [],
      "gpuType": "T4"
    },
    "kernelspec": {
      "name": "python3",
      "display_name": "Python 3"
    },
    "language_info": {
      "name": "python"
    },
    "accelerator": "GPU"
  },
  "cells": [
    {
      "cell_type": "code",
      "execution_count": null,
      "metadata": {
        "id": "Tpj6SSsxTir3"
      },
      "outputs": [],
      "source": [
        "%cd /content/\n",
        "!wget https://raw.githubusercontent.com/NeuralFalconYT/FramePack-Jupyter-Notebook/refs/heads/main/run.sh\n",
        "!chmod +x run.sh\n",
        "!./run.sh\n"
      ]
    },
    {
      "cell_type": "code",
      "source": [],
      "metadata": {
        "id": "XH8VLVxJeUZl"
      },
      "execution_count": null,
      "outputs": []
    },
    {
      "cell_type": "code",
      "source": [],
      "metadata": {
        "id": "SyF4sFuYeUWj"
      },
      "execution_count": null,
      "outputs": []
    },
    {
      "cell_type": "code",
      "source": [
        "#@title Run Manually\n",
        "root_path=\"/content\"\n",
        "%cd $root_path\n",
        "!git clone https://github.com/lllyasviel/FramePack.git\n",
        "%cd $root_path/FramePack\n",
        "# skip for google colab\n",
        "# !pip install torch torchvision torchaudio --index-url https://download.pytorch.org/whl/cu126\n",
        "!pip install sageattention==1.0.6\n",
        "!pip install -r requirements.txt\n",
        "from IPython.display import clear_output\n",
        "clear_output()\n",
        "%cd $root_path/FramePack\n"
      ],
      "metadata": {
        "id": "VEwmaJcKUzu7",
        "outputId": "3e243b2c-45b3-4df0-a5a7-37dc1ad73b65",
        "colab": {
          "base_uri": "https://localhost:8080/"
        }
      },
      "execution_count": 1,
      "outputs": [
        {
          "output_type": "stream",
          "name": "stdout",
          "text": [
            "/content/FramePack\n"
          ]
        }
      ]
    },
    {
      "cell_type": "code",
      "source": [
        "#@title Run FramePack\n",
        "!python demo_gradio.py --share"
      ],
      "metadata": {
        "id": "bfxCjpjddDUQ"
      },
      "execution_count": null,
      "outputs": []
    },
    {
      "cell_type": "code",
      "source": [
        "#@title Run FramePack-F1\n",
        "!python demo_gradio_f1.py --share"
      ],
      "metadata": {
        "id": "Y8CO13uTcLzY"
      },
      "execution_count": null,
      "outputs": []
    }
  ]
}